{
 "cells": [
  {
   "cell_type": "code",
   "execution_count": 1,
   "metadata": {},
   "outputs": [
    {
     "ename": "ModuleNotFoundError",
     "evalue": "No module named 'umap'",
     "output_type": "error",
     "traceback": [
      "\u001b[0;31m---------------------------------------------------------------------------\u001b[0m",
      "\u001b[0;31mModuleNotFoundError\u001b[0m                       Traceback (most recent call last)",
      "\u001b[0;32m<ipython-input-1-da49576d2d84>\u001b[0m in \u001b[0;36m<module>\u001b[0;34m()\u001b[0m\n\u001b[0;32m----> 1\u001b[0;31m \u001b[0;32mimport\u001b[0m \u001b[0mumap\u001b[0m\u001b[0;34m\u001b[0m\u001b[0;34m\u001b[0m\u001b[0m\n\u001b[0m\u001b[1;32m      2\u001b[0m \u001b[0;32mimport\u001b[0m \u001b[0mpickle\u001b[0m\u001b[0;34m\u001b[0m\u001b[0;34m\u001b[0m\u001b[0m\n\u001b[1;32m      3\u001b[0m \u001b[0;32mimport\u001b[0m \u001b[0mjoblib\u001b[0m\u001b[0;34m\u001b[0m\u001b[0;34m\u001b[0m\u001b[0m\n\u001b[1;32m      4\u001b[0m \u001b[0;32mimport\u001b[0m \u001b[0mrandom\u001b[0m\u001b[0;34m\u001b[0m\u001b[0;34m\u001b[0m\u001b[0m\n\u001b[1;32m      5\u001b[0m \u001b[0;32mimport\u001b[0m \u001b[0mstring\u001b[0m\u001b[0;34m\u001b[0m\u001b[0;34m\u001b[0m\u001b[0m\n",
      "\u001b[0;31mModuleNotFoundError\u001b[0m: No module named 'umap'"
     ]
    }
   ],
   "source": [
    "import umap\n",
    "import pickle\n",
    "import joblib\n",
    "import random\n",
    "import string\n",
    "import warnings\n",
    "warnings.simplefilter('ignore')\n",
    "\n",
    "import numpy as np\n",
    "import holoviews as hv\n",
    "import pandas as pd\n",
    "\n",
    "\n",
    "\n",
    "hv.extension('bokeh')\n",
    "data_dir = '/home/cdsw/airline-sentiment/data/'\n",
    "model_dir = '/home/cdsw/airline-sentiment/model/'"
   ]
  },
  {
   "cell_type": "code",
   "execution_count": 2,
   "metadata": {},
   "outputs": [],
   "source": [
    "with open(data_dir+'/frontend_data', 'rb') as f:\n",
    "    data = pickle.load(f)"
   ]
  },
  {
   "cell_type": "code",
   "execution_count": 3,
   "metadata": {},
   "outputs": [
    {
     "data": {
      "text/plain": [
       "dict_keys(['prediction', 'embedding', 'tweet', 'airline'])"
      ]
     },
     "execution_count": 3,
     "metadata": {},
     "output_type": "execute_result"
    }
   ],
   "source": [
    "data.keys()"
   ]
  },
  {
   "cell_type": "code",
   "execution_count": 4,
   "metadata": {},
   "outputs": [
    {
     "data": {
      "text/plain": [
       "1731"
      ]
     },
     "execution_count": 4,
     "metadata": {},
     "output_type": "execute_result"
    }
   ],
   "source": [
    "len(data['prediction'])"
   ]
  },
  {
   "cell_type": "code",
   "execution_count": 5,
   "metadata": {},
   "outputs": [],
   "source": [
    "data_df = pd.DataFrame(data)"
   ]
  },
  {
   "cell_type": "code",
   "execution_count": 6,
   "metadata": {},
   "outputs": [
    {
     "data": {
      "text/html": [
       "<div>\n",
       "<style scoped>\n",
       "    .dataframe tbody tr th:only-of-type {\n",
       "        vertical-align: middle;\n",
       "    }\n",
       "\n",
       "    .dataframe tbody tr th {\n",
       "        vertical-align: top;\n",
       "    }\n",
       "\n",
       "    .dataframe thead th {\n",
       "        text-align: right;\n",
       "    }\n",
       "</style>\n",
       "<table border=\"1\" class=\"dataframe\">\n",
       "  <thead>\n",
       "    <tr style=\"text-align: right;\">\n",
       "      <th></th>\n",
       "      <th>prediction</th>\n",
       "      <th>embedding</th>\n",
       "      <th>tweet</th>\n",
       "      <th>airline</th>\n",
       "    </tr>\n",
       "  </thead>\n",
       "  <tbody>\n",
       "    <tr>\n",
       "      <th>0</th>\n",
       "      <td>0.141585</td>\n",
       "      <td>[[-0.9406724, 0.9982645, -0.99448645, 0.972652...</td>\n",
       "      <td>[@united, was, such, a, better, airline, when,...</td>\n",
       "      <td>[United]</td>\n",
       "    </tr>\n",
       "    <tr>\n",
       "      <th>1</th>\n",
       "      <td>0.149422</td>\n",
       "      <td>[[-0.9352172, 0.9990309, -0.9944742, 0.9831363...</td>\n",
       "      <td>[@united, wi, -, fi, on, 737, -, 800, (, aircr...</td>\n",
       "      <td>[United]</td>\n",
       "    </tr>\n",
       "    <tr>\n",
       "      <th>2</th>\n",
       "      <td>0.128639</td>\n",
       "      <td>[[-0.9330108, 0.9983444, -0.9919408, 0.9770202...</td>\n",
       "      <td>[@USAirways, Only, the, JFK, baggage, office, ...</td>\n",
       "      <td>[US, Airways]</td>\n",
       "    </tr>\n",
       "    <tr>\n",
       "      <th>3</th>\n",
       "      <td>0.137313</td>\n",
       "      <td>[[-0.9453927, 0.9987324, -0.99320173, 0.980086...</td>\n",
       "      <td>[@AmericanAir, is, there, something, wrong, wi...</td>\n",
       "      <td>[American]</td>\n",
       "    </tr>\n",
       "    <tr>\n",
       "      <th>4</th>\n",
       "      <td>0.135864</td>\n",
       "      <td>[[-0.9473117, 0.9989401, -0.9929571, 0.9809232...</td>\n",
       "      <td>[@USAirways, So, when, was, I, supposed, to, c...</td>\n",
       "      <td>[US, Airways]</td>\n",
       "    </tr>\n",
       "  </tbody>\n",
       "</table>\n",
       "</div>"
      ],
      "text/plain": [
       "   prediction                                          embedding  \\\n",
       "0    0.141585  [[-0.9406724, 0.9982645, -0.99448645, 0.972652...   \n",
       "1    0.149422  [[-0.9352172, 0.9990309, -0.9944742, 0.9831363...   \n",
       "2    0.128639  [[-0.9330108, 0.9983444, -0.9919408, 0.9770202...   \n",
       "3    0.137313  [[-0.9453927, 0.9987324, -0.99320173, 0.980086...   \n",
       "4    0.135864  [[-0.9473117, 0.9989401, -0.9929571, 0.9809232...   \n",
       "\n",
       "                                               tweet        airline  \n",
       "0  [@united, was, such, a, better, airline, when,...       [United]  \n",
       "1  [@united, wi, -, fi, on, 737, -, 800, (, aircr...       [United]  \n",
       "2  [@USAirways, Only, the, JFK, baggage, office, ...  [US, Airways]  \n",
       "3  [@AmericanAir, is, there, something, wrong, wi...     [American]  \n",
       "4  [@USAirways, So, when, was, I, supposed, to, c...  [US, Airways]  "
      ]
     },
     "execution_count": 6,
     "metadata": {},
     "output_type": "execute_result"
    }
   ],
   "source": [
    "data_df.head()"
   ]
  },
  {
   "cell_type": "code",
   "execution_count": 7,
   "metadata": {},
   "outputs": [],
   "source": [
    "#data_df.airline.value_counts()"
   ]
  },
  {
   "cell_type": "code",
   "execution_count": 8,
   "metadata": {},
   "outputs": [
    {
     "data": {
      "text/plain": [
       "(1, 256)"
      ]
     },
     "execution_count": 8,
     "metadata": {},
     "output_type": "execute_result"
    }
   ],
   "source": [
    "np.shape(data['embedding'][0])"
   ]
  },
  {
   "cell_type": "code",
   "execution_count": 9,
   "metadata": {},
   "outputs": [
    {
     "data": {
      "text/plain": [
       "(1731, 256)"
      ]
     },
     "execution_count": 9,
     "metadata": {},
     "output_type": "execute_result"
    }
   ],
   "source": [
    "X = np.vstack(data_df['embedding'].values)\n",
    "\n",
    "np.shape(X)"
   ]
  },
  {
   "cell_type": "code",
   "execution_count": 10,
   "metadata": {},
   "outputs": [
    {
     "name": "stderr",
     "output_type": "stream",
     "text": [
      "/home/cdsw/.local/lib/python3.6/site-packages/umap/umap_.py:349: NumbaWarning: \n",
      "Compilation is falling back to object mode WITH looplifting enabled because Function \"fuzzy_simplicial_set\" failed type inference due to: Untyped global name 'nearest_neighbors': cannot determine Numba type of <class 'function'>\n",
      "\n",
      "File \"../../.local/lib/python3.6/site-packages/umap/umap_.py\", line 467:\n",
      "def fuzzy_simplicial_set(\n",
      "    <source elided>\n",
      "    if knn_indices is None or knn_dists is None:\n",
      "        knn_indices, knn_dists, _ = nearest_neighbors(\n",
      "        ^\n",
      "\n",
      "  @numba.jit()\n",
      "/home/cdsw/.local/lib/python3.6/site-packages/numba/compiler.py:725: NumbaWarning: Function \"fuzzy_simplicial_set\" was compiled in object mode without forceobj=True.\n",
      "\n",
      "File \"../../.local/lib/python3.6/site-packages/umap/umap_.py\", line 350:\n",
      "@numba.jit()\n",
      "def fuzzy_simplicial_set(\n",
      "^\n",
      "\n",
      "  self.func_ir.loc))\n",
      "/home/cdsw/.local/lib/python3.6/site-packages/numba/compiler.py:734: NumbaDeprecationWarning: \n",
      "Fall-back from the nopython compilation path to the object mode compilation path has been detected, this is deprecated behaviour.\n",
      "\n",
      "For more information visit http://numba.pydata.org/numba-doc/latest/reference/deprecation.html#deprecation-of-object-mode-fall-back-behaviour-when-using-jit\n",
      "\n",
      "File \"../../.local/lib/python3.6/site-packages/umap/umap_.py\", line 350:\n",
      "@numba.jit()\n",
      "def fuzzy_simplicial_set(\n",
      "^\n",
      "\n",
      "  warnings.warn(errors.NumbaDeprecationWarning(msg, self.func_ir.loc))\n"
     ]
    },
    {
     "name": "stdout",
     "output_type": "stream",
     "text": [
      "CPU times: user 14.4 s, sys: 184 ms, total: 14.6 s\n",
      "Wall time: 14.6 s\n"
     ]
    }
   ],
   "source": [
    "%%time \n",
    "\n",
    "embedding = umap.UMAP(n_components=2,\n",
    "                      n_neighbors=15,\n",
    "                      min_dist=0.1,\n",
    "                      metric='cosine').fit_transform(X)"
   ]
  },
  {
   "cell_type": "code",
   "execution_count": 11,
   "metadata": {},
   "outputs": [],
   "source": [
    "data_df['umap_x'], data_df['umap_y'] = embedding[:, 0], embedding[:, 1]"
   ]
  },
  {
   "cell_type": "code",
   "execution_count": 12,
   "metadata": {
    "scrolled": false
   },
   "outputs": [
    {
     "data": {
      "application/vnd.holoviews_exec.v0+json": "",
      "text/html": [
       "<div id='1003' style='display: table; margin: 0 auto;'>\n",
       "\n",
       "\n",
       "\n",
       "\n",
       "\n",
       "  <div class=\"bk-root\" id=\"0996be9c-ff82-4ef5-b8a7-ea7fa8ddff7c\" data-root-id=\"1003\"></div>\n",
       "</div>\n",
       "<script type=\"application/javascript\">(function(root) {\n",
       "  function embed_document(root) {\n",
       "    \n",
       "  var docs_json = {\"faec0f5a-120c-468e-b9b7-4ce14d4ae424\":{\"roots\":{\"references\":[{\"attributes\":{\"below\":[{\"id\":\"1012\",\"type\":\"LinearAxis\"}],\"center\":[{\"id\":\"1016\",\"type\":\"Grid\"},{\"id\":\"1021\",\"type\":\"Grid\"}],\"left\":[{\"id\":\"1017\",\"type\":\"LinearAxis\"}],\"margin\":null,\"min_border_bottom\":10,\"min_border_left\":10,\"min_border_right\":10,\"min_border_top\":10,\"plot_height\":500,\"plot_width\":500,\"renderers\":[{\"id\":\"1042\",\"type\":\"GlyphRenderer\"}],\"sizing_mode\":\"fixed\",\"title\":{\"id\":\"1004\",\"type\":\"Title\"},\"toolbar\":{\"id\":\"1027\",\"type\":\"Toolbar\"},\"x_range\":{\"id\":\"1001\",\"type\":\"Range1d\"},\"x_scale\":{\"id\":\"1008\",\"type\":\"LinearScale\"},\"y_range\":{\"id\":\"1002\",\"type\":\"Range1d\"},\"y_scale\":{\"id\":\"1010\",\"type\":\"LinearScale\"}},\"id\":\"1003\",\"subtype\":\"Figure\",\"type\":\"Plot\"},{\"attributes\":{\"overlay\":{\"id\":\"1053\",\"type\":\"BoxAnnotation\"}},\"id\":\"1025\",\"type\":\"BoxZoomTool\"},{\"attributes\":{},\"id\":\"1026\",\"type\":\"ResetTool\"},{\"attributes\":{\"fill_color\":{\"field\":\"color\",\"transform\":{\"id\":\"1033\",\"type\":\"LinearColorMapper\"}},\"line_color\":{\"field\":\"color\",\"transform\":{\"id\":\"1033\",\"type\":\"LinearColorMapper\"}},\"size\":{\"units\":\"screen\",\"value\":2.449489742783178},\"x\":{\"field\":\"umap_x\"},\"y\":{\"field\":\"umap_y\"}},\"id\":\"1037\",\"type\":\"Scatter\"},{\"attributes\":{},\"id\":\"1024\",\"type\":\"WheelZoomTool\"},{\"attributes\":{\"high\":0.828626275062561,\"low\":0.11629032343626022,\"palette\":[\"#000000\",\"#060000\",\"#0d0000\",\"#120000\",\"#160000\",\"#190000\",\"#1c0000\",\"#1f0000\",\"#220000\",\"#240000\",\"#260000\",\"#280000\",\"#2b0000\",\"#2d0000\",\"#2e0000\",\"#300000\",\"#320000\",\"#340000\",\"#350000\",\"#370000\",\"#380000\",\"#3a0000\",\"#3b0000\",\"#3d0000\",\"#3e0000\",\"#400000\",\"#410000\",\"#430000\",\"#440000\",\"#460000\",\"#470000\",\"#490000\",\"#4a0000\",\"#4c0000\",\"#4d0000\",\"#4f0000\",\"#500000\",\"#520000\",\"#530000\",\"#550000\",\"#560000\",\"#580000\",\"#590100\",\"#5b0100\",\"#5d0100\",\"#5e0100\",\"#600100\",\"#610100\",\"#630100\",\"#650100\",\"#660100\",\"#680100\",\"#690100\",\"#6b0100\",\"#6d0100\",\"#6e0100\",\"#700100\",\"#710100\",\"#730100\",\"#750100\",\"#760100\",\"#780200\",\"#7a0200\",\"#7b0200\",\"#7d0200\",\"#7f0200\",\"#800200\",\"#820200\",\"#840200\",\"#850200\",\"#870200\",\"#890200\",\"#8a0200\",\"#8c0300\",\"#8e0300\",\"#900300\",\"#910300\",\"#930300\",\"#950300\",\"#960300\",\"#980300\",\"#9a0300\",\"#9c0300\",\"#9d0400\",\"#9f0400\",\"#a10400\",\"#a20400\",\"#a40400\",\"#a60400\",\"#a80400\",\"#a90400\",\"#ab0500\",\"#ad0500\",\"#af0500\",\"#b00500\",\"#b20500\",\"#b40500\",\"#b60600\",\"#b80600\",\"#b90600\",\"#bb0600\",\"#bd0600\",\"#bf0700\",\"#c00700\",\"#c20700\",\"#c40700\",\"#c60800\",\"#c80800\",\"#c90800\",\"#cb0800\",\"#cd0900\",\"#cf0900\",\"#d10900\",\"#d20a00\",\"#d40a00\",\"#d60a00\",\"#d80b00\",\"#da0b00\",\"#db0c00\",\"#dd0c00\",\"#df0d00\",\"#e10d00\",\"#e30e00\",\"#e40f00\",\"#e60f00\",\"#e81000\",\"#ea1100\",\"#eb1300\",\"#ed1400\",\"#ee1600\",\"#f01800\",\"#f11b00\",\"#f21d00\",\"#f32000\",\"#f52300\",\"#f62600\",\"#f62900\",\"#f72c00\",\"#f82f00\",\"#f93200\",\"#f93500\",\"#fa3800\",\"#fa3b00\",\"#fb3d00\",\"#fb4000\",\"#fb4300\",\"#fc4600\",\"#fc4900\",\"#fc4b00\",\"#fd4e00\",\"#fd5100\",\"#fd5300\",\"#fd5600\",\"#fd5800\",\"#fe5b00\",\"#fe5d00\",\"#fe5f00\",\"#fe6200\",\"#fe6400\",\"#fe6600\",\"#fe6800\",\"#fe6b00\",\"#fe6d00\",\"#fe6f00\",\"#fe7100\",\"#fe7300\",\"#fe7500\",\"#fe7700\",\"#fe7900\",\"#fe7c00\",\"#ff7e00\",\"#ff8000\",\"#ff8200\",\"#ff8300\",\"#ff8500\",\"#ff8700\",\"#ff8900\",\"#ff8b00\",\"#ff8d00\",\"#ff8f00\",\"#ff9100\",\"#ff9300\",\"#ff9400\",\"#ff9600\",\"#ff9800\",\"#ff9a00\",\"#ff9c00\",\"#ff9d00\",\"#ff9f00\",\"#ffa100\",\"#ffa300\",\"#ffa401\",\"#ffa601\",\"#ffa801\",\"#ffaa01\",\"#ffab01\",\"#ffad01\",\"#ffaf01\",\"#ffb001\",\"#ffb202\",\"#ffb402\",\"#ffb502\",\"#ffb702\",\"#ffb902\",\"#ffba02\",\"#ffbc03\",\"#ffbd03\",\"#ffbf03\",\"#ffc103\",\"#ffc204\",\"#ffc404\",\"#ffc604\",\"#ffc704\",\"#ffc905\",\"#ffca05\",\"#ffcc05\",\"#ffce06\",\"#ffcf06\",\"#ffd106\",\"#ffd207\",\"#ffd407\",\"#ffd508\",\"#ffd708\",\"#ffd909\",\"#ffda09\",\"#ffdc0a\",\"#ffdd0a\",\"#ffdf0b\",\"#ffe00b\",\"#ffe20c\",\"#ffe30d\",\"#ffe50e\",\"#ffe60f\",\"#ffe810\",\"#ffea11\",\"#ffeb12\",\"#ffed14\",\"#ffee17\",\"#fff01a\",\"#fff11e\",\"#fff324\",\"#fff42a\",\"#fff532\",\"#fff73b\",\"#fff847\",\"#fff953\",\"#fffb62\",\"#fffb72\",\"#fffc83\",\"#fffd95\",\"#fffea8\",\"#fffeba\",\"#fffecc\",\"#fffede\",\"#fffeee\",\"#ffffff\"]},\"id\":\"1033\",\"type\":\"LinearColorMapper\"},{\"attributes\":{\"fill_color\":{\"field\":\"color\",\"transform\":{\"id\":\"1033\",\"type\":\"LinearColorMapper\"}},\"line_color\":{\"field\":\"color\",\"transform\":{\"id\":\"1033\",\"type\":\"LinearColorMapper\"}},\"size\":{\"units\":\"screen\",\"value\":2.449489742783178},\"x\":{\"field\":\"umap_x\"},\"y\":{\"field\":\"umap_y\"}},\"id\":\"1039\",\"type\":\"Scatter\"},{\"attributes\":{\"fill_alpha\":{\"value\":0.2},\"fill_color\":{\"field\":\"color\",\"transform\":{\"id\":\"1033\",\"type\":\"LinearColorMapper\"}},\"line_alpha\":{\"value\":0.2},\"line_color\":{\"field\":\"color\",\"transform\":{\"id\":\"1033\",\"type\":\"LinearColorMapper\"}},\"size\":{\"units\":\"screen\",\"value\":2.449489742783178},\"x\":{\"field\":\"umap_x\"},\"y\":{\"field\":\"umap_y\"}},\"id\":\"1041\",\"type\":\"Scatter\"},{\"attributes\":{\"active_drag\":\"auto\",\"active_inspect\":\"auto\",\"active_multi\":null,\"active_scroll\":\"auto\",\"active_tap\":\"auto\",\"tools\":[{\"id\":\"1022\",\"type\":\"SaveTool\"},{\"id\":\"1023\",\"type\":\"PanTool\"},{\"id\":\"1024\",\"type\":\"WheelZoomTool\"},{\"id\":\"1025\",\"type\":\"BoxZoomTool\"},{\"id\":\"1026\",\"type\":\"ResetTool\"}]},\"id\":\"1027\",\"type\":\"Toolbar\"},{\"attributes\":{\"data_source\":{\"id\":\"1034\",\"type\":\"ColumnDataSource\"},\"glyph\":{\"id\":\"1037\",\"type\":\"Scatter\"},\"hover_glyph\":{\"id\":\"1040\",\"type\":\"Scatter\"},\"muted_glyph\":{\"id\":\"1041\",\"type\":\"Scatter\"},\"nonselection_glyph\":{\"id\":\"1038\",\"type\":\"Scatter\"},\"selection_glyph\":{\"id\":\"1039\",\"type\":\"Scatter\"},\"view\":{\"id\":\"1043\",\"type\":\"CDSView\"}},\"id\":\"1042\",\"type\":\"GlyphRenderer\"},{\"attributes\":{},\"id\":\"1023\",\"type\":\"PanTool\"},{\"attributes\":{\"source\":{\"id\":\"1034\",\"type\":\"ColumnDataSource\"}},\"id\":\"1043\",\"type\":\"CDSView\"},{\"attributes\":{\"callback\":null,\"data\":{\"color\":{\"__ndarray__\":\"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\",\"dtype\":\"float64\",\"shape\":[1731]},\"umap_x\":{\"__ndarray__\":\"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\",\"dtype\":\"float32\",\"shape\":[1731]},\"umap_y\":{\"__ndarray__\":\"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\",\"dtype\":\"float32\",\"shape\":[1731]}},\"selected\":{\"id\":\"1035\",\"type\":\"Selection\"},\"selection_policy\":{\"id\":\"1054\",\"type\":\"UnionRenderers\"}},\"id\":\"1034\",\"type\":\"ColumnDataSource\"},{\"attributes\":{\"fill_alpha\":{\"value\":0.1},\"fill_color\":{\"field\":\"color\",\"transform\":{\"id\":\"1033\",\"type\":\"LinearColorMapper\"}},\"line_alpha\":{\"value\":0.1},\"line_color\":{\"field\":\"color\",\"transform\":{\"id\":\"1033\",\"type\":\"LinearColorMapper\"}},\"size\":{\"units\":\"screen\",\"value\":2.449489742783178},\"x\":{\"field\":\"umap_x\"},\"y\":{\"field\":\"umap_y\"}},\"id\":\"1038\",\"type\":\"Scatter\"},{\"attributes\":{\"fill_color\":{\"field\":\"color\",\"transform\":{\"id\":\"1033\",\"type\":\"LinearColorMapper\"}},\"line_color\":{\"field\":\"color\",\"transform\":{\"id\":\"1033\",\"type\":\"LinearColorMapper\"}},\"size\":{\"units\":\"screen\",\"value\":2.449489742783178},\"x\":{\"field\":\"umap_x\"},\"y\":{\"field\":\"umap_y\"}},\"id\":\"1040\",\"type\":\"Scatter\"},{\"attributes\":{},\"id\":\"1054\",\"type\":\"UnionRenderers\"},{\"attributes\":{},\"id\":\"1022\",\"type\":\"SaveTool\"},{\"attributes\":{},\"id\":\"1035\",\"type\":\"Selection\"},{\"attributes\":{},\"id\":\"1044\",\"type\":\"BasicTickFormatter\"},{\"attributes\":{\"dimension\":1,\"grid_line_color\":null,\"ticker\":{\"id\":\"1018\",\"type\":\"BasicTicker\"}},\"id\":\"1021\",\"type\":\"Grid\"},{\"attributes\":{},\"id\":\"1046\",\"type\":\"BasicTickFormatter\"},{\"attributes\":{\"callback\":null,\"end\":14.723073959350586,\"reset_end\":14.723073959350586,\"reset_start\":-15.442352294921875,\"start\":-15.442352294921875,\"tags\":[[[\"umap_y\",\"umap_y\",null]]]},\"id\":\"1002\",\"type\":\"Range1d\"},{\"attributes\":{\"callback\":null,\"end\":6.827363014221191,\"reset_end\":6.827363014221191,\"reset_start\":-16.382415771484375,\"start\":-16.382415771484375,\"tags\":[[[\"umap_x\",\"umap_x\",null]]]},\"id\":\"1001\",\"type\":\"Range1d\"},{\"attributes\":{\"axis_label\":\"umap_y\",\"bounds\":\"auto\",\"formatter\":{\"id\":\"1046\",\"type\":\"BasicTickFormatter\"},\"major_label_orientation\":\"horizontal\",\"ticker\":{\"id\":\"1018\",\"type\":\"BasicTicker\"}},\"id\":\"1017\",\"type\":\"LinearAxis\"},{\"attributes\":{},\"id\":\"1018\",\"type\":\"BasicTicker\"},{\"attributes\":{},\"id\":\"1013\",\"type\":\"BasicTicker\"},{\"attributes\":{\"grid_line_color\":null,\"ticker\":{\"id\":\"1013\",\"type\":\"BasicTicker\"}},\"id\":\"1016\",\"type\":\"Grid\"},{\"attributes\":{\"axis_label\":\"umap_x\",\"bounds\":\"auto\",\"formatter\":{\"id\":\"1044\",\"type\":\"BasicTickFormatter\"},\"major_label_orientation\":\"horizontal\",\"ticker\":{\"id\":\"1013\",\"type\":\"BasicTicker\"}},\"id\":\"1012\",\"type\":\"LinearAxis\"},{\"attributes\":{},\"id\":\"1008\",\"type\":\"LinearScale\"},{\"attributes\":{},\"id\":\"1010\",\"type\":\"LinearScale\"},{\"attributes\":{\"bottom_units\":\"screen\",\"fill_alpha\":{\"value\":0.5},\"fill_color\":{\"value\":\"lightgrey\"},\"left_units\":\"screen\",\"level\":\"overlay\",\"line_alpha\":{\"value\":1.0},\"line_color\":{\"value\":\"black\"},\"line_dash\":[4,4],\"line_width\":{\"value\":2},\"render_mode\":\"css\",\"right_units\":\"screen\",\"top_units\":\"screen\"},\"id\":\"1053\",\"type\":\"BoxAnnotation\"},{\"attributes\":{\"text\":\"\",\"text_color\":{\"value\":\"black\"},\"text_font_size\":{\"value\":\"12pt\"}},\"id\":\"1004\",\"type\":\"Title\"}],\"root_ids\":[\"1003\"]},\"title\":\"Bokeh Application\",\"version\":\"1.2.0\"}};\n",
       "  var render_items = [{\"docid\":\"faec0f5a-120c-468e-b9b7-4ce14d4ae424\",\"roots\":{\"1003\":\"0996be9c-ff82-4ef5-b8a7-ea7fa8ddff7c\"}}];\n",
       "  root.Bokeh.embed.embed_items_notebook(docs_json, render_items);\n",
       "\n",
       "  }\n",
       "  if (root.Bokeh !== undefined) {\n",
       "    embed_document(root);\n",
       "  } else {\n",
       "    var attempts = 0;\n",
       "    var timer = setInterval(function(root) {\n",
       "      if (root.Bokeh !== undefined) {\n",
       "        embed_document(root);\n",
       "        clearInterval(timer);\n",
       "      }\n",
       "      attempts++;\n",
       "      if (attempts > 100) {\n",
       "        console.log(\"Bokeh: ERROR: Unable to run BokehJS code because BokehJS library is missing\");\n",
       "        clearInterval(timer);\n",
       "      }\n",
       "    }, 10, root)\n",
       "  }\n",
       "})(window);</script>"
      ],
      "text/plain": [
       ":Scatter   [umap_x,umap_y]   (prediction)"
      ]
     },
     "execution_count": 12,
     "metadata": {
      "application/vnd.holoviews_exec.v0+json": {
       "id": "1003"
      }
     },
     "output_type": "execute_result"
    }
   ],
   "source": [
    "%%opts Scatter [width=500 height=500] (color='prediction')\n",
    "hv.Scatter(data_df, kdims=['umap_x', 'umap_y'], vdims=['prediction'])"
   ]
  },
  {
   "cell_type": "code",
   "execution_count": 13,
   "metadata": {},
   "outputs": [],
   "source": [
    "#data_df['tweet'] = [''.join(random.choices(string.ascii_uppercase + string.digits, k=10))\n",
    "#                    for i in range(0, len(data_df))]"
   ]
  },
  {
   "cell_type": "code",
   "execution_count": 14,
   "metadata": {},
   "outputs": [
    {
     "data": {
      "text/html": [
       "<div>\n",
       "<style scoped>\n",
       "    .dataframe tbody tr th:only-of-type {\n",
       "        vertical-align: middle;\n",
       "    }\n",
       "\n",
       "    .dataframe tbody tr th {\n",
       "        vertical-align: top;\n",
       "    }\n",
       "\n",
       "    .dataframe thead th {\n",
       "        text-align: right;\n",
       "    }\n",
       "</style>\n",
       "<table border=\"1\" class=\"dataframe\">\n",
       "  <thead>\n",
       "    <tr style=\"text-align: right;\">\n",
       "      <th></th>\n",
       "      <th>prediction</th>\n",
       "      <th>embedding</th>\n",
       "      <th>tweet</th>\n",
       "      <th>airline</th>\n",
       "      <th>umap_x</th>\n",
       "      <th>umap_y</th>\n",
       "    </tr>\n",
       "  </thead>\n",
       "  <tbody>\n",
       "    <tr>\n",
       "      <th>0</th>\n",
       "      <td>0.141585</td>\n",
       "      <td>[[-0.9406724, 0.9982645, -0.99448645, 0.972652...</td>\n",
       "      <td>[@united, was, such, a, better, airline, when,...</td>\n",
       "      <td>[United]</td>\n",
       "      <td>-6.354976</td>\n",
       "      <td>3.010093</td>\n",
       "    </tr>\n",
       "    <tr>\n",
       "      <th>1</th>\n",
       "      <td>0.149422</td>\n",
       "      <td>[[-0.9352172, 0.9990309, -0.9944742, 0.9831363...</td>\n",
       "      <td>[@united, wi, -, fi, on, 737, -, 800, (, aircr...</td>\n",
       "      <td>[United]</td>\n",
       "      <td>-0.507132</td>\n",
       "      <td>-3.451891</td>\n",
       "    </tr>\n",
       "    <tr>\n",
       "      <th>2</th>\n",
       "      <td>0.128639</td>\n",
       "      <td>[[-0.9330108, 0.9983444, -0.9919408, 0.9770202...</td>\n",
       "      <td>[@USAirways, Only, the, JFK, baggage, office, ...</td>\n",
       "      <td>[US, Airways]</td>\n",
       "      <td>1.276108</td>\n",
       "      <td>13.485870</td>\n",
       "    </tr>\n",
       "    <tr>\n",
       "      <th>3</th>\n",
       "      <td>0.137313</td>\n",
       "      <td>[[-0.9453927, 0.9987324, -0.99320173, 0.980086...</td>\n",
       "      <td>[@AmericanAir, is, there, something, wrong, wi...</td>\n",
       "      <td>[American]</td>\n",
       "      <td>-0.834772</td>\n",
       "      <td>12.863005</td>\n",
       "    </tr>\n",
       "    <tr>\n",
       "      <th>4</th>\n",
       "      <td>0.135864</td>\n",
       "      <td>[[-0.9473117, 0.9989401, -0.9929571, 0.9809232...</td>\n",
       "      <td>[@USAirways, So, when, was, I, supposed, to, c...</td>\n",
       "      <td>[US, Airways]</td>\n",
       "      <td>-14.246212</td>\n",
       "      <td>0.219514</td>\n",
       "    </tr>\n",
       "  </tbody>\n",
       "</table>\n",
       "</div>"
      ],
      "text/plain": [
       "   prediction                                          embedding  \\\n",
       "0    0.141585  [[-0.9406724, 0.9982645, -0.99448645, 0.972652...   \n",
       "1    0.149422  [[-0.9352172, 0.9990309, -0.9944742, 0.9831363...   \n",
       "2    0.128639  [[-0.9330108, 0.9983444, -0.9919408, 0.9770202...   \n",
       "3    0.137313  [[-0.9453927, 0.9987324, -0.99320173, 0.980086...   \n",
       "4    0.135864  [[-0.9473117, 0.9989401, -0.9929571, 0.9809232...   \n",
       "\n",
       "                                               tweet        airline  \\\n",
       "0  [@united, was, such, a, better, airline, when,...       [United]   \n",
       "1  [@united, wi, -, fi, on, 737, -, 800, (, aircr...       [United]   \n",
       "2  [@USAirways, Only, the, JFK, baggage, office, ...  [US, Airways]   \n",
       "3  [@AmericanAir, is, there, something, wrong, wi...     [American]   \n",
       "4  [@USAirways, So, when, was, I, supposed, to, c...  [US, Airways]   \n",
       "\n",
       "      umap_x     umap_y  \n",
       "0  -6.354976   3.010093  \n",
       "1  -0.507132  -3.451891  \n",
       "2   1.276108  13.485870  \n",
       "3  -0.834772  12.863005  \n",
       "4 -14.246212   0.219514  "
      ]
     },
     "execution_count": 14,
     "metadata": {},
     "output_type": "execute_result"
    }
   ],
   "source": [
    "data_df.head()"
   ]
  },
  {
   "cell_type": "code",
   "execution_count": 15,
   "metadata": {},
   "outputs": [],
   "source": [
    "data_df['tweet'] = data_df['tweet'].apply(lambda t: \" \".join(t))"
   ]
  },
  {
   "cell_type": "code",
   "execution_count": 16,
   "metadata": {},
   "outputs": [
    {
     "data": {
      "text/plain": [
       "['/home/cdsw/airline-sentiment/data//umap_embedding.joblib']"
      ]
     },
     "execution_count": 16,
     "metadata": {},
     "output_type": "execute_result"
    }
   ],
   "source": [
    "joblib.dump(data_df, data_dir+'/umap_embedding.joblib', compress=True)"
   ]
  },
  {
   "cell_type": "code",
   "execution_count": null,
   "metadata": {},
   "outputs": [],
   "source": []
  }
 ],
 "metadata": {
  "kernelspec": {
   "display_name": "Python 3",
   "language": "python",
   "name": "python3"
  },
  "language_info": {
   "codemirror_mode": {
    "name": "ipython",
    "version": 3
   },
   "file_extension": ".py",
   "mimetype": "text/x-python",
   "name": "python",
   "nbconvert_exporter": "python",
   "pygments_lexer": "ipython3",
   "version": "3.6.8"
  }
 },
 "nbformat": 4,
 "nbformat_minor": 2
}
